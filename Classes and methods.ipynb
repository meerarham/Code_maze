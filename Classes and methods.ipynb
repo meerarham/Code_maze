{
 "cells": [
  {
   "cell_type": "code",
   "execution_count": 2,
   "id": "483ca1f7",
   "metadata": {},
   "outputs": [],
   "source": [
    "class city():\n",
    "    def __init__(self, area, name):\n",
    "        self.area = area\n",
    "        self.name = name\n",
    "    \n",
    "    def printName(self):\n",
    "        print('Area is '+self.area+' and name is ' +self.name)\n",
    "    "
   ]
  },
  {
   "cell_type": "code",
   "execution_count": 6,
   "id": "5c805136",
   "metadata": {},
   "outputs": [],
   "source": [
    "class city2():\n",
    "    def __init__(self):\n",
    "        self.area = '5000sqft'\n",
    "        self.name = \"isb\"\n",
    "    \n",
    "    def printName(self):\n",
    "        print('Area is '+self.area+' and name is ' +self.name)\n",
    "    "
   ]
  },
  {
   "cell_type": "code",
   "execution_count": 7,
   "id": "265d279b",
   "metadata": {},
   "outputs": [],
   "source": [
    "ctiyObj = city2()"
   ]
  },
  {
   "cell_type": "code",
   "execution_count": 8,
   "id": "af87a92e",
   "metadata": {},
   "outputs": [
    {
     "name": "stdout",
     "output_type": "stream",
     "text": [
      "Area is 5000sqft and name is isb\n"
     ]
    }
   ],
   "source": [
    "ctiyObj.printName()"
   ]
  },
  {
   "cell_type": "code",
   "execution_count": 11,
   "id": "39fd5096",
   "metadata": {},
   "outputs": [
    {
     "name": "stdout",
     "output_type": "stream",
     "text": [
      "Area is 10000 and name is LHR\n"
     ]
    }
   ],
   "source": [
    "city_obj = city('10000','LHR')\n",
    "city_obj.printName()\n",
    "\n",
    "\n",
    "\n",
    "\n",
    "\n",
    "\n",
    "\n",
    "\n",
    "\n"
   ]
  },
  {
   "cell_type": "code",
   "execution_count": 20,
   "id": "e11efee7",
   "metadata": {},
   "outputs": [
    {
     "name": "stdout",
     "output_type": "stream",
     "text": [
      "The cat is a domestic species of small carnivorous mammal. It has Four Chambered heart ,Tooth replacement for One Time also has mammary glands and has hair and fur\n",
      "The dog or domestic dog, is a domesticated descendant of the wolf which is characterized by an upturning tailIt has Four Chambered heart ,Tooth replacement for One Time also has mammary glands and has hair and fur\n",
      "Elephants are the largest existing land animals.It has Four Chambered heart ,Tooth replacement for One Time also has mammary glands and has hair and fur\n",
      "Bears are carnivoran mammals of the family Ursidae.It has Four Chambered heart ,Tooth replacement for One Time also has mammary glands and has hair and fur\n"
     ]
    }
   ],
   "source": [
    "class Mammals():\n",
    "    def __init__(self,heart,toothReplacement,mammaryGlands,hairFur):\n",
    "        self.heart = heart\n",
    "        self.toothReplacement = toothReplacement\n",
    "        self.mammaryGlands = mammaryGlands\n",
    "        self.hairFur = hairFur\n",
    "    def Cat(self):\n",
    "        print(\"The cat is a domestic species of small carnivorous mammal. \" + \"It has \" +self.heart+\" ,Tooth replacement for \"+self.toothReplacement+\" also has \"+self.mammaryGlands+\" and has \" +self.hairFur)\n",
    "    def Dog(self):\n",
    "        print(\"The dog or domestic dog, is a domesticated descendant of the wolf which is characterized by an upturning tail\" + \"It has \" +self.heart+\" ,Tooth replacement for \"+self.toothReplacement+\" also has \"+self.mammaryGlands+\" and has \" +self.hairFur)\n",
    "    def Elephant(self):\n",
    "        print(\"Elephants are the largest existing land animals.\" + \"It has \" +self.heart+\" ,Tooth replacement for \"+self.toothReplacement+\" also has \"+self.mammaryGlands+\" and has \" +self.hairFur)\n",
    "    def Bear(self):\n",
    "        print(\"Bears are carnivoran mammals of the family Ursidae.\" + \"It has \" +self.heart+\" ,Tooth replacement for \"+self.toothReplacement+\" also has \"+self.mammaryGlands+\" and has \" +self.hairFur)\n",
    "mammalObj = Mammals(\"Four Chambered heart\",\"One Time\",\"mammary glands\",\"hair and fur\")\n",
    "mammalObj.Cat()\n",
    "mammalObj.Dog()\n",
    "mammalObj.Elephant()\n",
    "mammalObj.Bear()\n",
    "              "
   ]
  },
  {
   "cell_type": "code",
   "execution_count": 23,
   "id": "d634affe",
   "metadata": {},
   "outputs": [
    {
     "name": "stdout",
     "output_type": "stream",
     "text": [
      "Lizards (suborder Lacertilia) are a widespread group of squamate reptiles, with over 6,000 species, ranging across all continents except Antarctica, as well as most oceanic island chains. It has backbones ,and are Cold blooded Produces shelled eggs and has one lung\n",
      "Snakes are elongated, limbless, carnivorous reptiles of the suborder Serpentes It has backbones ,and are Cold blooded Produces shelled eggs and has one lung\n",
      "Turtles are an order of reptiles known as Testudines, characterized by a shell developed mainly from their ribs.It has backbones ,and are Cold blooded Produces shelled eggs and has one lung\n",
      "Dinosaurs are a diverse group of reptiles of the clade Dinosauria. It has backbones ,and are Cold blooded Produces shelled eggs and has one lung\n"
     ]
    }
   ],
   "source": [
    "class Reptiles():\n",
    "    def __init__(self,backbone,blood,produce,lung):\n",
    "        self.backbone = backbone\n",
    "        self.blood = blood\n",
    "        self.produce = produce\n",
    "        self.lung = lung\n",
    "    def Lizards(self):\n",
    "        print(\"Lizards (suborder Lacertilia) are a widespread group of squamate reptiles, with over 6,000 species, ranging across all continents except Antarctica, as well as most oceanic island chains. \" + \"It has \" +self.backbone+\" ,and are \"+self.blood+\" Produces \"+self.produce+\" and has \" +self.lung)\n",
    "    def Snake(self):\n",
    "        print(\"Snakes are elongated, limbless, carnivorous reptiles of the suborder Serpentes \"  + \"It has \" +self.backbone+\" ,and are \"+self.blood+\" Produces \"+self.produce+\" and has \" +self.lung)\n",
    "    def Turtles(self):\n",
    "        print(\"Turtles are an order of reptiles known as Testudines, characterized by a shell developed mainly from their ribs.\" + \"It has \" +self.backbone+\" ,and are \"+self.blood+\" Produces \"+self.produce+\" and has \" +self.lung)\n",
    "    def Dinosaur(self):\n",
    "        print(\"Dinosaurs are a diverse group of reptiles of the clade Dinosauria. \"  + \"It has \" +self.backbone+\" ,and are \"+self.blood+\" Produces \"+self.produce+\" and has \" +self.lung)\n",
    "mammalObj = Reptiles(\"backbones\",\"Cold blooded\",\"shelled eggs\",\"one lung\")\n",
    "mammalObj.Lizards()\n",
    "mammalObj.Snake()\n",
    "mammalObj.Turtles()\n",
    "mammalObj.Dinosaur()\n",
    "              "
   ]
  },
  {
   "cell_type": "code",
   "execution_count": 1,
   "id": "f63e787d",
   "metadata": {},
   "outputs": [],
   "source": [
    "class Animals():\n",
    "    def __init__(self,choice):\n",
    "        self.choice = choice\n",
    "        self.name = input('Please enter the name of animal')\n",
    "    def choose(self):\n",
    "        if choice == '1':\n",
    "            print('Please enter the name of mammal')\n",
    "            if self.name == \"cat\":\n",
    "                def Cat(self):\n",
    "                    print(\"The cat is a domestic species of small carnivorous mammal.\")\n",
    "                Cat(self)\n",
    "            elif self.name == \"dog\":\n",
    "                def Dog(self):\n",
    "                    print(\"The dog or domestic dog, is a domesticated descendant of the wolf which is characterized by an upturning tail\")\n",
    "                Dog(self)\n",
    "            elif self.name == \"elephant\":\n",
    "                def Elephant(self):\n",
    "                    print(\"Elephants are the largest existing land animals.\")\n",
    "                Elephant(self)\n",
    "            elif self.name == \"bear\":\n",
    "                def Bear(self):\n",
    "                    print(\"Bears are carnivoran mammals of the family Ursidae.\")\n",
    "                Bear(self)\n",
    "            else:\n",
    "                pass\n",
    "        if choice == '2':\n",
    "            print('Please enter the name of reptile')\n",
    "            if self.name == \"lizards\":                \n",
    "                def Lizard(self):\n",
    "                    print(\"Lizards are a widespread group of squamate reptiles, with over 6,000 species, ranging across all continents except Antarctica, as well as most oceanic island chains. \")\n",
    "                Lizard(self)\n",
    "            elif self.name == \"snake\":\n",
    "                def Snake(self):\n",
    "                    print(\"Snakes are elongated, limbless, carnivorous reptiles of the suborder Serpentes \")\n",
    "                Snake(self)\n",
    "            elif self.name == \"turtle\":\n",
    "                def Turtle(self):\n",
    "                    print(\"Turtles are an order of reptiles known as Testudines, characterized by a shell developed mainly from their ribs.\" )\n",
    "                Turtle(self)\n",
    "            elif self.name == \"dinosaur\":\n",
    "                def Dinosaur(self):\n",
    "                    print(\"Dinosaurs are a diverse group of reptiles of the clade Dinosauria.\")\n",
    "                Dinosaur(self)\n",
    "            else:\n",
    "                pass\n",
    "        \n"
   ]
  },
  {
   "cell_type": "code",
   "execution_count": 5,
   "id": "1a342fe5",
   "metadata": {},
   "outputs": [
    {
     "name": "stdout",
     "output_type": "stream",
     "text": [
      "\n",
      "Please enter your choice\n",
      "1 : Mammals\n",
      "2 : Reptiles\n",
      "2\n",
      "Please enter the name of animalsnake\n"
     ]
    }
   ],
   "source": [
    "choice = input(\"\"\"\n",
    "Please enter your choice\n",
    "1 : Mammals\n",
    "2 : Reptiles\n",
    "\"\"\")\n",
    "animal = Animals(choice)"
   ]
  },
  {
   "cell_type": "code",
   "execution_count": 6,
   "id": "58b81d29",
   "metadata": {},
   "outputs": [
    {
     "name": "stdout",
     "output_type": "stream",
     "text": [
      "Please enter the name of reptile\n",
      "Snakes are elongated, limbless, carnivorous reptiles of the suborder Serpentes \n"
     ]
    }
   ],
   "source": [
    "animal.choose()"
   ]
  },
  {
   "cell_type": "code",
   "execution_count": null,
   "id": "360fb8ab",
   "metadata": {},
   "outputs": [],
   "source": []
  }
 ],
 "metadata": {
  "kernelspec": {
   "display_name": "Python 3 (ipykernel)",
   "language": "python",
   "name": "python3"
  },
  "language_info": {
   "codemirror_mode": {
    "name": "ipython",
    "version": 3
   },
   "file_extension": ".py",
   "mimetype": "text/x-python",
   "name": "python",
   "nbconvert_exporter": "python",
   "pygments_lexer": "ipython3",
   "version": "3.9.7"
  }
 },
 "nbformat": 4,
 "nbformat_minor": 5
}
