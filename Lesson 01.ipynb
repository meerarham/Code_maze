{
 "cells": [
  {
   "cell_type": "code",
   "execution_count": 15,
   "id": "4094ad4f",
   "metadata": {},
   "outputs": [],
   "source": [
    "def print_my_name(firstNum = 100, secondNum = 300):\n",
    "    a = firstNum\n",
    "    b = secondNum\n",
    "    result = a + b\n",
    "    return result"
   ]
  },
  {
   "cell_type": "code",
   "execution_count": 20,
   "id": "dd5d1634",
   "metadata": {},
   "outputs": [
    {
     "data": {
      "text/plain": [
       "1250"
      ]
     },
     "execution_count": 20,
     "metadata": {},
     "output_type": "execute_result"
    }
   ],
   "source": [
    "res = print_my_name(250, 600)\n",
    "res + 400"
   ]
  },
  {
   "cell_type": "code",
   "execution_count": null,
   "id": "5ff27731",
   "metadata": {},
   "outputs": [],
   "source": []
  }
 ],
 "metadata": {
  "kernelspec": {
   "display_name": "Python 3 (ipykernel)",
   "language": "python",
   "name": "python3"
  },
  "language_info": {
   "codemirror_mode": {
    "name": "ipython",
    "version": 3
   },
   "file_extension": ".py",
   "mimetype": "text/x-python",
   "name": "python",
   "nbconvert_exporter": "python",
   "pygments_lexer": "ipython3",
   "version": "3.9.7"
  }
 },
 "nbformat": 4,
 "nbformat_minor": 5
}
